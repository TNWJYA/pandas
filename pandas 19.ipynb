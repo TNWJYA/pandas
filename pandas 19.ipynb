{
 "cells": [
  {
   "cell_type": "code",
   "execution_count": 1,
   "metadata": {},
   "outputs": [
    {
     "name": "stdout",
     "output_type": "stream",
     "text": [
      "1.1.3\n",
      "1.19.2\n"
     ]
    }
   ],
   "source": [
    "import pandas as ka\n",
    "import numpy as ii\n",
    "\n",
    "print(ka.__version__)\n",
    "print(ii.__version__)"
   ]
  },
  {
   "cell_type": "code",
   "execution_count": 3,
   "metadata": {},
   "outputs": [
    {
     "data": {
      "text/html": [
       "<div>\n",
       "<style scoped>\n",
       "    .dataframe tbody tr th:only-of-type {\n",
       "        vertical-align: middle;\n",
       "    }\n",
       "\n",
       "    .dataframe tbody tr th {\n",
       "        vertical-align: top;\n",
       "    }\n",
       "\n",
       "    .dataframe thead th {\n",
       "        text-align: right;\n",
       "    }\n",
       "</style>\n",
       "<table border=\"1\" class=\"dataframe\">\n",
       "  <thead>\n",
       "    <tr style=\"text-align: right;\">\n",
       "      <th></th>\n",
       "      <th>omset</th>\n",
       "      <th>operasional</th>\n",
       "    </tr>\n",
       "  </thead>\n",
       "  <tbody>\n",
       "    <tr>\n",
       "      <th>0</th>\n",
       "      <td>5</td>\n",
       "      <td>7</td>\n",
       "    </tr>\n",
       "    <tr>\n",
       "      <th>1</th>\n",
       "      <td>5</td>\n",
       "      <td>13</td>\n",
       "    </tr>\n",
       "    <tr>\n",
       "      <th>2</th>\n",
       "      <td>14</td>\n",
       "      <td>1</td>\n",
       "    </tr>\n",
       "    <tr>\n",
       "      <th>3</th>\n",
       "      <td>3</td>\n",
       "      <td>5</td>\n",
       "    </tr>\n",
       "    <tr>\n",
       "      <th>4</th>\n",
       "      <td>9</td>\n",
       "      <td>5</td>\n",
       "    </tr>\n",
       "  </tbody>\n",
       "</table>\n",
       "</div>"
      ],
      "text/plain": [
       "   omset  operasional\n",
       "0      5            7\n",
       "1      5           13\n",
       "2     14            1\n",
       "3      3            5\n",
       "4      9            5"
      ]
     },
     "execution_count": 3,
     "metadata": {},
     "output_type": "execute_result"
    }
   ],
   "source": [
    "n_rows = 5\n",
    "n_cols = 2\n",
    "cols = ['omset', 'operasional']\n",
    "\n",
    "df = ka.DataFrame(ii.random.randint(1, 20, size=(n_rows, n_cols)),\n",
    "                 columns=cols)\n",
    "df"
   ]
  },
  {
   "cell_type": "code",
   "execution_count": 4,
   "metadata": {},
   "outputs": [
    {
     "data": {
      "text/html": [
       "<div>\n",
       "<style scoped>\n",
       "    .dataframe tbody tr th:only-of-type {\n",
       "        vertical-align: middle;\n",
       "    }\n",
       "\n",
       "    .dataframe tbody tr th {\n",
       "        vertical-align: top;\n",
       "    }\n",
       "\n",
       "    .dataframe thead th {\n",
       "        text-align: right;\n",
       "    }\n",
       "</style>\n",
       "<table border=\"1\" class=\"dataframe\">\n",
       "  <thead>\n",
       "    <tr style=\"text-align: right;\">\n",
       "      <th></th>\n",
       "      <th>omset</th>\n",
       "      <th>operasional</th>\n",
       "    </tr>\n",
       "  </thead>\n",
       "  <tbody>\n",
       "    <tr>\n",
       "      <th>0</th>\n",
       "      <td>500000</td>\n",
       "      <td>70000</td>\n",
       "    </tr>\n",
       "    <tr>\n",
       "      <th>1</th>\n",
       "      <td>500000</td>\n",
       "      <td>130000</td>\n",
       "    </tr>\n",
       "    <tr>\n",
       "      <th>2</th>\n",
       "      <td>1400000</td>\n",
       "      <td>10000</td>\n",
       "    </tr>\n",
       "    <tr>\n",
       "      <th>3</th>\n",
       "      <td>300000</td>\n",
       "      <td>50000</td>\n",
       "    </tr>\n",
       "    <tr>\n",
       "      <th>4</th>\n",
       "      <td>900000</td>\n",
       "      <td>50000</td>\n",
       "    </tr>\n",
       "  </tbody>\n",
       "</table>\n",
       "</div>"
      ],
      "text/plain": [
       "     omset  operasional\n",
       "0   500000        70000\n",
       "1   500000       130000\n",
       "2  1400000        10000\n",
       "3   300000        50000\n",
       "4   900000        50000"
      ]
     },
     "execution_count": 4,
     "metadata": {},
     "output_type": "execute_result"
    }
   ],
   "source": [
    "df['omset'] = df['omset'] * 100_000\n",
    "df['operasional'] = df['operasional'] * 10_000\n",
    "df"
   ]
  },
  {
   "cell_type": "code",
   "execution_count": 6,
   "metadata": {},
   "outputs": [
    {
     "name": "stderr",
     "output_type": "stream",
     "text": [
      "/opt/anaconda3/lib/python3.8/site-packages/pandas/util/__init__.py:12: FutureWarning: pandas.util.testing is deprecated. Use the functions in the public API at pandas.testing instead.\n",
      "  import pandas.util.testing\n"
     ]
    },
    {
     "data": {
      "text/html": [
       "<div>\n",
       "<style scoped>\n",
       "    .dataframe tbody tr th:only-of-type {\n",
       "        vertical-align: middle;\n",
       "    }\n",
       "\n",
       "    .dataframe tbody tr th {\n",
       "        vertical-align: top;\n",
       "    }\n",
       "\n",
       "    .dataframe thead th {\n",
       "        text-align: right;\n",
       "    }\n",
       "</style>\n",
       "<table border=\"1\" class=\"dataframe\">\n",
       "  <thead>\n",
       "    <tr style=\"text-align: right;\">\n",
       "      <th></th>\n",
       "      <th>tanggal</th>\n",
       "      <th>omset</th>\n",
       "      <th>operasional</th>\n",
       "    </tr>\n",
       "  </thead>\n",
       "  <tbody>\n",
       "    <tr>\n",
       "      <th>0</th>\n",
       "      <td>2000-01-01</td>\n",
       "      <td>500000</td>\n",
       "      <td>70000</td>\n",
       "    </tr>\n",
       "    <tr>\n",
       "      <th>1</th>\n",
       "      <td>2000-01-02</td>\n",
       "      <td>500000</td>\n",
       "      <td>130000</td>\n",
       "    </tr>\n",
       "    <tr>\n",
       "      <th>2</th>\n",
       "      <td>2000-01-03</td>\n",
       "      <td>1400000</td>\n",
       "      <td>10000</td>\n",
       "    </tr>\n",
       "    <tr>\n",
       "      <th>3</th>\n",
       "      <td>2000-01-04</td>\n",
       "      <td>300000</td>\n",
       "      <td>50000</td>\n",
       "    </tr>\n",
       "    <tr>\n",
       "      <th>4</th>\n",
       "      <td>2000-01-05</td>\n",
       "      <td>900000</td>\n",
       "      <td>50000</td>\n",
       "    </tr>\n",
       "  </tbody>\n",
       "</table>\n",
       "</div>"
      ],
      "text/plain": [
       "     tanggal    omset  operasional\n",
       "0 2000-01-01   500000        70000\n",
       "1 2000-01-02   500000       130000\n",
       "2 2000-01-03  1400000        10000\n",
       "3 2000-01-04   300000        50000\n",
       "4 2000-01-05   900000        50000"
      ]
     },
     "execution_count": 6,
     "metadata": {},
     "output_type": "execute_result"
    }
   ],
   "source": [
    "df.index = ka.util.testing.makeDateIndex(n_rows, freq='D')\n",
    "df = df.reset_index()\n",
    "df = df.rename(columns={'index':'tanggal'})\n",
    "df"
   ]
  },
  {
   "cell_type": "code",
   "execution_count": 7,
   "metadata": {},
   "outputs": [
    {
     "data": {
      "text/html": [
       "<style  type=\"text/css\" >\n",
       "</style><table id=\"T_2d2866a4_30f4_11ec_ab21_1e00622ec679\" ><thead>    <tr>        <th class=\"blank level0\" ></th>        <th class=\"col_heading level0 col0\" >tanggal</th>        <th class=\"col_heading level0 col1\" >omset</th>        <th class=\"col_heading level0 col2\" >operasional</th>    </tr></thead><tbody>\n",
       "                <tr>\n",
       "                        <th id=\"T_2d2866a4_30f4_11ec_ab21_1e00622ec679level0_row0\" class=\"row_heading level0 row0\" >0</th>\n",
       "                        <td id=\"T_2d2866a4_30f4_11ec_ab21_1e00622ec679row0_col0\" class=\"data row0 col0\" >01/01/00</td>\n",
       "                        <td id=\"T_2d2866a4_30f4_11ec_ab21_1e00622ec679row0_col1\" class=\"data row0 col1\" >Rp 500000.00</td>\n",
       "                        <td id=\"T_2d2866a4_30f4_11ec_ab21_1e00622ec679row0_col2\" class=\"data row0 col2\" >Rp 70000.00</td>\n",
       "            </tr>\n",
       "            <tr>\n",
       "                        <th id=\"T_2d2866a4_30f4_11ec_ab21_1e00622ec679level0_row1\" class=\"row_heading level0 row1\" >1</th>\n",
       "                        <td id=\"T_2d2866a4_30f4_11ec_ab21_1e00622ec679row1_col0\" class=\"data row1 col0\" >02/01/00</td>\n",
       "                        <td id=\"T_2d2866a4_30f4_11ec_ab21_1e00622ec679row1_col1\" class=\"data row1 col1\" >Rp 500000.00</td>\n",
       "                        <td id=\"T_2d2866a4_30f4_11ec_ab21_1e00622ec679row1_col2\" class=\"data row1 col2\" >Rp 130000.00</td>\n",
       "            </tr>\n",
       "            <tr>\n",
       "                        <th id=\"T_2d2866a4_30f4_11ec_ab21_1e00622ec679level0_row2\" class=\"row_heading level0 row2\" >2</th>\n",
       "                        <td id=\"T_2d2866a4_30f4_11ec_ab21_1e00622ec679row2_col0\" class=\"data row2 col0\" >03/01/00</td>\n",
       "                        <td id=\"T_2d2866a4_30f4_11ec_ab21_1e00622ec679row2_col1\" class=\"data row2 col1\" >Rp 1400000.00</td>\n",
       "                        <td id=\"T_2d2866a4_30f4_11ec_ab21_1e00622ec679row2_col2\" class=\"data row2 col2\" >Rp 10000.00</td>\n",
       "            </tr>\n",
       "            <tr>\n",
       "                        <th id=\"T_2d2866a4_30f4_11ec_ab21_1e00622ec679level0_row3\" class=\"row_heading level0 row3\" >3</th>\n",
       "                        <td id=\"T_2d2866a4_30f4_11ec_ab21_1e00622ec679row3_col0\" class=\"data row3 col0\" >04/01/00</td>\n",
       "                        <td id=\"T_2d2866a4_30f4_11ec_ab21_1e00622ec679row3_col1\" class=\"data row3 col1\" >Rp 300000.00</td>\n",
       "                        <td id=\"T_2d2866a4_30f4_11ec_ab21_1e00622ec679row3_col2\" class=\"data row3 col2\" >Rp 50000.00</td>\n",
       "            </tr>\n",
       "            <tr>\n",
       "                        <th id=\"T_2d2866a4_30f4_11ec_ab21_1e00622ec679level0_row4\" class=\"row_heading level0 row4\" >4</th>\n",
       "                        <td id=\"T_2d2866a4_30f4_11ec_ab21_1e00622ec679row4_col0\" class=\"data row4 col0\" >05/01/00</td>\n",
       "                        <td id=\"T_2d2866a4_30f4_11ec_ab21_1e00622ec679row4_col1\" class=\"data row4 col1\" >Rp 900000.00</td>\n",
       "                        <td id=\"T_2d2866a4_30f4_11ec_ab21_1e00622ec679row4_col2\" class=\"data row4 col2\" >Rp 50000.00</td>\n",
       "            </tr>\n",
       "    </tbody></table>"
      ],
      "text/plain": [
       "<pandas.io.formats.style.Styler at 0x7fe1480a56d0>"
      ]
     },
     "execution_count": 7,
     "metadata": {},
     "output_type": "execute_result"
    }
   ],
   "source": [
    "formatku = {'tanggal':'{:%d/%m/%y}',\n",
    "           'operasional':'Rp {:.2f}',\n",
    "           'omset':'Rp {:.2f}'}\n",
    "\n",
    "laporan = df.style.format(formatku)\n",
    "laporan"
   ]
  },
  {
   "cell_type": "code",
   "execution_count": 8,
   "metadata": {},
   "outputs": [
    {
     "data": {
      "text/plain": [
       "pandas.io.formats.style.Styler"
      ]
     },
     "execution_count": 8,
     "metadata": {},
     "output_type": "execute_result"
    }
   ],
   "source": [
    "type(laporan)"
   ]
  },
  {
   "cell_type": "code",
   "execution_count": 9,
   "metadata": {},
   "outputs": [
    {
     "data": {
      "text/html": [
       "<style  type=\"text/css\" >\n",
       "</style><table id=\"T_64e97510_30f4_11ec_ab21_1e00622ec679\" ><thead>    <tr>        <th class=\"col_heading level0 col0\" >tanggal</th>        <th class=\"col_heading level0 col1\" >omset</th>        <th class=\"col_heading level0 col2\" >operasional</th>    </tr></thead><tbody>\n",
       "                <tr>\n",
       "                                <td id=\"T_64e97510_30f4_11ec_ab21_1e00622ec679row0_col0\" class=\"data row0 col0\" >01/01/00</td>\n",
       "                        <td id=\"T_64e97510_30f4_11ec_ab21_1e00622ec679row0_col1\" class=\"data row0 col1\" >Rp 500000.00</td>\n",
       "                        <td id=\"T_64e97510_30f4_11ec_ab21_1e00622ec679row0_col2\" class=\"data row0 col2\" >Rp 70000.00</td>\n",
       "            </tr>\n",
       "            <tr>\n",
       "                                <td id=\"T_64e97510_30f4_11ec_ab21_1e00622ec679row1_col0\" class=\"data row1 col0\" >02/01/00</td>\n",
       "                        <td id=\"T_64e97510_30f4_11ec_ab21_1e00622ec679row1_col1\" class=\"data row1 col1\" >Rp 500000.00</td>\n",
       "                        <td id=\"T_64e97510_30f4_11ec_ab21_1e00622ec679row1_col2\" class=\"data row1 col2\" >Rp 130000.00</td>\n",
       "            </tr>\n",
       "            <tr>\n",
       "                                <td id=\"T_64e97510_30f4_11ec_ab21_1e00622ec679row2_col0\" class=\"data row2 col0\" >03/01/00</td>\n",
       "                        <td id=\"T_64e97510_30f4_11ec_ab21_1e00622ec679row2_col1\" class=\"data row2 col1\" >Rp 1400000.00</td>\n",
       "                        <td id=\"T_64e97510_30f4_11ec_ab21_1e00622ec679row2_col2\" class=\"data row2 col2\" >Rp 10000.00</td>\n",
       "            </tr>\n",
       "            <tr>\n",
       "                                <td id=\"T_64e97510_30f4_11ec_ab21_1e00622ec679row3_col0\" class=\"data row3 col0\" >04/01/00</td>\n",
       "                        <td id=\"T_64e97510_30f4_11ec_ab21_1e00622ec679row3_col1\" class=\"data row3 col1\" >Rp 300000.00</td>\n",
       "                        <td id=\"T_64e97510_30f4_11ec_ab21_1e00622ec679row3_col2\" class=\"data row3 col2\" >Rp 50000.00</td>\n",
       "            </tr>\n",
       "            <tr>\n",
       "                                <td id=\"T_64e97510_30f4_11ec_ab21_1e00622ec679row4_col0\" class=\"data row4 col0\" >05/01/00</td>\n",
       "                        <td id=\"T_64e97510_30f4_11ec_ab21_1e00622ec679row4_col1\" class=\"data row4 col1\" >Rp 900000.00</td>\n",
       "                        <td id=\"T_64e97510_30f4_11ec_ab21_1e00622ec679row4_col2\" class=\"data row4 col2\" >Rp 50000.00</td>\n",
       "            </tr>\n",
       "    </tbody></table>"
      ],
      "text/plain": [
       "<pandas.io.formats.style.Styler at 0x7fe1480a56d0>"
      ]
     },
     "execution_count": 9,
     "metadata": {},
     "output_type": "execute_result"
    }
   ],
   "source": [
    "laporan.hide_index()"
   ]
  },
  {
   "cell_type": "code",
   "execution_count": 10,
   "metadata": {},
   "outputs": [
    {
     "data": {
      "text/html": [
       "<style  type=\"text/css\" >\n",
       "</style><table id=\"T_8474828a_30f4_11ec_ab21_1e00622ec679\" ><caption>Data Omset dan Operasional</caption><thead>    <tr>        <th class=\"col_heading level0 col0\" >tanggal</th>        <th class=\"col_heading level0 col1\" >omset</th>        <th class=\"col_heading level0 col2\" >operasional</th>    </tr></thead><tbody>\n",
       "                <tr>\n",
       "                                <td id=\"T_8474828a_30f4_11ec_ab21_1e00622ec679row0_col0\" class=\"data row0 col0\" >01/01/00</td>\n",
       "                        <td id=\"T_8474828a_30f4_11ec_ab21_1e00622ec679row0_col1\" class=\"data row0 col1\" >Rp 500000.00</td>\n",
       "                        <td id=\"T_8474828a_30f4_11ec_ab21_1e00622ec679row0_col2\" class=\"data row0 col2\" >Rp 70000.00</td>\n",
       "            </tr>\n",
       "            <tr>\n",
       "                                <td id=\"T_8474828a_30f4_11ec_ab21_1e00622ec679row1_col0\" class=\"data row1 col0\" >02/01/00</td>\n",
       "                        <td id=\"T_8474828a_30f4_11ec_ab21_1e00622ec679row1_col1\" class=\"data row1 col1\" >Rp 500000.00</td>\n",
       "                        <td id=\"T_8474828a_30f4_11ec_ab21_1e00622ec679row1_col2\" class=\"data row1 col2\" >Rp 130000.00</td>\n",
       "            </tr>\n",
       "            <tr>\n",
       "                                <td id=\"T_8474828a_30f4_11ec_ab21_1e00622ec679row2_col0\" class=\"data row2 col0\" >03/01/00</td>\n",
       "                        <td id=\"T_8474828a_30f4_11ec_ab21_1e00622ec679row2_col1\" class=\"data row2 col1\" >Rp 1400000.00</td>\n",
       "                        <td id=\"T_8474828a_30f4_11ec_ab21_1e00622ec679row2_col2\" class=\"data row2 col2\" >Rp 10000.00</td>\n",
       "            </tr>\n",
       "            <tr>\n",
       "                                <td id=\"T_8474828a_30f4_11ec_ab21_1e00622ec679row3_col0\" class=\"data row3 col0\" >04/01/00</td>\n",
       "                        <td id=\"T_8474828a_30f4_11ec_ab21_1e00622ec679row3_col1\" class=\"data row3 col1\" >Rp 300000.00</td>\n",
       "                        <td id=\"T_8474828a_30f4_11ec_ab21_1e00622ec679row3_col2\" class=\"data row3 col2\" >Rp 50000.00</td>\n",
       "            </tr>\n",
       "            <tr>\n",
       "                                <td id=\"T_8474828a_30f4_11ec_ab21_1e00622ec679row4_col0\" class=\"data row4 col0\" >05/01/00</td>\n",
       "                        <td id=\"T_8474828a_30f4_11ec_ab21_1e00622ec679row4_col1\" class=\"data row4 col1\" >Rp 900000.00</td>\n",
       "                        <td id=\"T_8474828a_30f4_11ec_ab21_1e00622ec679row4_col2\" class=\"data row4 col2\" >Rp 50000.00</td>\n",
       "            </tr>\n",
       "    </tbody></table>"
      ],
      "text/plain": [
       "<pandas.io.formats.style.Styler at 0x7fe1480a56d0>"
      ]
     },
     "execution_count": 10,
     "metadata": {},
     "output_type": "execute_result"
    }
   ],
   "source": [
    "laporan.set_caption('Data Omset dan Operasional')"
   ]
  },
  {
   "cell_type": "code",
   "execution_count": 12,
   "metadata": {},
   "outputs": [
    {
     "data": {
      "text/html": [
       "<style  type=\"text/css\" >\n",
       "#T_07db7296_30f5_11ec_ab21_1e00622ec679row1_col2{\n",
       "            background-color:  grey;\n",
       "        }#T_07db7296_30f5_11ec_ab21_1e00622ec679row2_col1{\n",
       "            background-color:  lightgreen;\n",
       "        }#T_07db7296_30f5_11ec_ab21_1e00622ec679row2_col2{\n",
       "            background-color:  lightblue;\n",
       "        }#T_07db7296_30f5_11ec_ab21_1e00622ec679row3_col1{\n",
       "            background-color:  pink;\n",
       "        }</style><table id=\"T_07db7296_30f5_11ec_ab21_1e00622ec679\" ><caption>Data Omset dan Operasional</caption><thead>    <tr>        <th class=\"col_heading level0 col0\" >tanggal</th>        <th class=\"col_heading level0 col1\" >omset</th>        <th class=\"col_heading level0 col2\" >operasional</th>    </tr></thead><tbody>\n",
       "                <tr>\n",
       "                                <td id=\"T_07db7296_30f5_11ec_ab21_1e00622ec679row0_col0\" class=\"data row0 col0\" >01/01/00</td>\n",
       "                        <td id=\"T_07db7296_30f5_11ec_ab21_1e00622ec679row0_col1\" class=\"data row0 col1\" >Rp 500000.00</td>\n",
       "                        <td id=\"T_07db7296_30f5_11ec_ab21_1e00622ec679row0_col2\" class=\"data row0 col2\" >Rp 70000.00</td>\n",
       "            </tr>\n",
       "            <tr>\n",
       "                                <td id=\"T_07db7296_30f5_11ec_ab21_1e00622ec679row1_col0\" class=\"data row1 col0\" >02/01/00</td>\n",
       "                        <td id=\"T_07db7296_30f5_11ec_ab21_1e00622ec679row1_col1\" class=\"data row1 col1\" >Rp 500000.00</td>\n",
       "                        <td id=\"T_07db7296_30f5_11ec_ab21_1e00622ec679row1_col2\" class=\"data row1 col2\" >Rp 130000.00</td>\n",
       "            </tr>\n",
       "            <tr>\n",
       "                                <td id=\"T_07db7296_30f5_11ec_ab21_1e00622ec679row2_col0\" class=\"data row2 col0\" >03/01/00</td>\n",
       "                        <td id=\"T_07db7296_30f5_11ec_ab21_1e00622ec679row2_col1\" class=\"data row2 col1\" >Rp 1400000.00</td>\n",
       "                        <td id=\"T_07db7296_30f5_11ec_ab21_1e00622ec679row2_col2\" class=\"data row2 col2\" >Rp 10000.00</td>\n",
       "            </tr>\n",
       "            <tr>\n",
       "                                <td id=\"T_07db7296_30f5_11ec_ab21_1e00622ec679row3_col0\" class=\"data row3 col0\" >04/01/00</td>\n",
       "                        <td id=\"T_07db7296_30f5_11ec_ab21_1e00622ec679row3_col1\" class=\"data row3 col1\" >Rp 300000.00</td>\n",
       "                        <td id=\"T_07db7296_30f5_11ec_ab21_1e00622ec679row3_col2\" class=\"data row3 col2\" >Rp 50000.00</td>\n",
       "            </tr>\n",
       "            <tr>\n",
       "                                <td id=\"T_07db7296_30f5_11ec_ab21_1e00622ec679row4_col0\" class=\"data row4 col0\" >05/01/00</td>\n",
       "                        <td id=\"T_07db7296_30f5_11ec_ab21_1e00622ec679row4_col1\" class=\"data row4 col1\" >Rp 900000.00</td>\n",
       "                        <td id=\"T_07db7296_30f5_11ec_ab21_1e00622ec679row4_col2\" class=\"data row4 col2\" >Rp 50000.00</td>\n",
       "            </tr>\n",
       "    </tbody></table>"
      ],
      "text/plain": [
       "<pandas.io.formats.style.Styler at 0x7fe1480a56d0>"
      ]
     },
     "execution_count": 12,
     "metadata": {},
     "output_type": "execute_result"
    }
   ],
   "source": [
    "laporan.highlight_min('omset', color='pink')\n",
    "laporan.highlight_max('omset', color='lightgreen')\n",
    "\n",
    "laporan.highlight_min('operasional', color='lightblue')\n",
    "laporan.highlight_max('operasional', color='grey')"
   ]
  },
  {
   "cell_type": "code",
   "execution_count": null,
   "metadata": {},
   "outputs": [],
   "source": []
  }
 ],
 "metadata": {
  "kernelspec": {
   "display_name": "Python 3",
   "language": "python",
   "name": "python3"
  },
  "language_info": {
   "codemirror_mode": {
    "name": "ipython",
    "version": 3
   },
   "file_extension": ".py",
   "mimetype": "text/x-python",
   "name": "python",
   "nbconvert_exporter": "python",
   "pygments_lexer": "ipython3",
   "version": "3.8.5"
  }
 },
 "nbformat": 4,
 "nbformat_minor": 4
}
