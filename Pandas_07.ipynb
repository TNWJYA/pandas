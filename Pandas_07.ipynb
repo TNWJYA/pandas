{
 "cells": [
  {
   "cell_type": "code",
   "execution_count": 1,
   "metadata": {},
   "outputs": [
    {
     "name": "stdout",
     "output_type": "stream",
     "text": [
      "1.1.3\n"
     ]
    }
   ],
   "source": [
    "import pandas as ka\n",
    "\n",
    "print(ka.__version__)"
   ]
  },
  {
   "cell_type": "code",
   "execution_count": 3,
   "metadata": {},
   "outputs": [
    {
     "name": "stderr",
     "output_type": "stream",
     "text": [
      "/opt/anaconda3/lib/python3.8/site-packages/pandas/util/__init__.py:12: FutureWarning: pandas.util.testing is deprecated. Use the functions in the public API at pandas.testing instead.\n",
      "  import pandas.util.testing\n"
     ]
    },
    {
     "data": {
      "text/html": [
       "<div>\n",
       "<style scoped>\n",
       "    .dataframe tbody tr th:only-of-type {\n",
       "        vertical-align: middle;\n",
       "    }\n",
       "\n",
       "    .dataframe tbody tr th {\n",
       "        vertical-align: top;\n",
       "    }\n",
       "\n",
       "    .dataframe thead th {\n",
       "        text-align: right;\n",
       "    }\n",
       "</style>\n",
       "<table border=\"1\" class=\"dataframe\">\n",
       "  <thead>\n",
       "    <tr style=\"text-align: right;\">\n",
       "      <th></th>\n",
       "      <th>index</th>\n",
       "      <th>A</th>\n",
       "      <th>B</th>\n",
       "      <th>C</th>\n",
       "      <th>D</th>\n",
       "    </tr>\n",
       "  </thead>\n",
       "  <tbody>\n",
       "    <tr>\n",
       "      <th>0</th>\n",
       "      <td>odsznegNL7</td>\n",
       "      <td>-0.846224</td>\n",
       "      <td>1.126368</td>\n",
       "      <td>-0.007235</td>\n",
       "      <td>1.029593</td>\n",
       "    </tr>\n",
       "    <tr>\n",
       "      <th>1</th>\n",
       "      <td>xryJaY7xwU</td>\n",
       "      <td>0.402216</td>\n",
       "      <td>1.551617</td>\n",
       "      <td>0.969158</td>\n",
       "      <td>NaN</td>\n",
       "    </tr>\n",
       "    <tr>\n",
       "      <th>2</th>\n",
       "      <td>WBee8QwUEu</td>\n",
       "      <td>0.318026</td>\n",
       "      <td>-2.231194</td>\n",
       "      <td>-1.162135</td>\n",
       "      <td>-0.400426</td>\n",
       "    </tr>\n",
       "    <tr>\n",
       "      <th>3</th>\n",
       "      <td>V2tKiFKNPU</td>\n",
       "      <td>0.737495</td>\n",
       "      <td>1.394655</td>\n",
       "      <td>1.219070</td>\n",
       "      <td>-0.756473</td>\n",
       "    </tr>\n",
       "    <tr>\n",
       "      <th>4</th>\n",
       "      <td>5BrnlMp6FB</td>\n",
       "      <td>NaN</td>\n",
       "      <td>NaN</td>\n",
       "      <td>-1.804825</td>\n",
       "      <td>0.108517</td>\n",
       "    </tr>\n",
       "  </tbody>\n",
       "</table>\n",
       "</div>"
      ],
      "text/plain": [
       "        index         A         B         C         D\n",
       "0  odsznegNL7 -0.846224  1.126368 -0.007235  1.029593\n",
       "1  xryJaY7xwU  0.402216  1.551617  0.969158       NaN\n",
       "2  WBee8QwUEu  0.318026 -2.231194 -1.162135 -0.400426\n",
       "3  V2tKiFKNPU  0.737495  1.394655  1.219070 -0.756473\n",
       "4  5BrnlMp6FB       NaN       NaN -1.804825  0.108517"
      ]
     },
     "execution_count": 3,
     "metadata": {},
     "output_type": "execute_result"
    }
   ],
   "source": [
    "#untuk membuat data frame dummy yang memiliki missing values\n",
    "df = ka.util.testing.makeMissingDataframe().reset_index()\n",
    "df.head()"
   ]
  },
  {
   "cell_type": "code",
   "execution_count": 9,
   "metadata": {},
   "outputs": [
    {
     "data": {
      "text/html": [
       "<div>\n",
       "<style scoped>\n",
       "    .dataframe tbody tr th:only-of-type {\n",
       "        vertical-align: middle;\n",
       "    }\n",
       "\n",
       "    .dataframe tbody tr th {\n",
       "        vertical-align: top;\n",
       "    }\n",
       "\n",
       "    .dataframe thead th {\n",
       "        text-align: right;\n",
       "    }\n",
       "</style>\n",
       "<table border=\"1\" class=\"dataframe\">\n",
       "  <thead>\n",
       "    <tr style=\"text-align: right;\">\n",
       "      <th></th>\n",
       "      <th>Z</th>\n",
       "      <th>A</th>\n",
       "      <th>B</th>\n",
       "      <th>C</th>\n",
       "      <th>D</th>\n",
       "    </tr>\n",
       "  </thead>\n",
       "  <tbody>\n",
       "    <tr>\n",
       "      <th>0</th>\n",
       "      <td>odsznegNL7</td>\n",
       "      <td>-0.846224</td>\n",
       "      <td>1.126368</td>\n",
       "      <td>-0.007235</td>\n",
       "      <td>1.029593</td>\n",
       "    </tr>\n",
       "    <tr>\n",
       "      <th>1</th>\n",
       "      <td>xryJaY7xwU</td>\n",
       "      <td>0.402216</td>\n",
       "      <td>1.551617</td>\n",
       "      <td>0.969158</td>\n",
       "      <td>NaN</td>\n",
       "    </tr>\n",
       "    <tr>\n",
       "      <th>2</th>\n",
       "      <td>WBee8QwUEu</td>\n",
       "      <td>0.318026</td>\n",
       "      <td>-2.231194</td>\n",
       "      <td>-1.162135</td>\n",
       "      <td>-0.400426</td>\n",
       "    </tr>\n",
       "    <tr>\n",
       "      <th>3</th>\n",
       "      <td>V2tKiFKNPU</td>\n",
       "      <td>0.737495</td>\n",
       "      <td>1.394655</td>\n",
       "      <td>1.219070</td>\n",
       "      <td>-0.756473</td>\n",
       "    </tr>\n",
       "    <tr>\n",
       "      <th>4</th>\n",
       "      <td>5BrnlMp6FB</td>\n",
       "      <td>NaN</td>\n",
       "      <td>NaN</td>\n",
       "      <td>-1.804825</td>\n",
       "      <td>0.108517</td>\n",
       "    </tr>\n",
       "  </tbody>\n",
       "</table>\n",
       "</div>"
      ],
      "text/plain": [
       "            Z         A         B         C         D\n",
       "0  odsznegNL7 -0.846224  1.126368 -0.007235  1.029593\n",
       "1  xryJaY7xwU  0.402216  1.551617  0.969158       NaN\n",
       "2  WBee8QwUEu  0.318026 -2.231194 -1.162135 -0.400426\n",
       "3  V2tKiFKNPU  0.737495  1.394655  1.219070 -0.756473\n",
       "4  5BrnlMp6FB       NaN       NaN -1.804825  0.108517"
      ]
     },
     "execution_count": 9,
     "metadata": {},
     "output_type": "execute_result"
    }
   ],
   "source": [
    "#merubah kolom \"index\" menjadi kolom \"Z\"\n",
    "df = df.rename(columns={'index':'Z'})\n",
    "df.head()"
   ]
  },
  {
   "cell_type": "code",
   "execution_count": 10,
   "metadata": {},
   "outputs": [],
   "source": [
    "df_backup=df.copy(deep=True)"
   ]
  },
  {
   "cell_type": "code",
   "execution_count": 11,
   "metadata": {},
   "outputs": [
    {
     "data": {
      "text/html": [
       "<div>\n",
       "<style scoped>\n",
       "    .dataframe tbody tr th:only-of-type {\n",
       "        vertical-align: middle;\n",
       "    }\n",
       "\n",
       "    .dataframe tbody tr th {\n",
       "        vertical-align: top;\n",
       "    }\n",
       "\n",
       "    .dataframe thead th {\n",
       "        text-align: right;\n",
       "    }\n",
       "</style>\n",
       "<table border=\"1\" class=\"dataframe\">\n",
       "  <thead>\n",
       "    <tr style=\"text-align: right;\">\n",
       "      <th></th>\n",
       "      <th>Z</th>\n",
       "    </tr>\n",
       "  </thead>\n",
       "  <tbody>\n",
       "    <tr>\n",
       "      <th>0</th>\n",
       "      <td>odsznegNL7</td>\n",
       "    </tr>\n",
       "    <tr>\n",
       "      <th>1</th>\n",
       "      <td>xryJaY7xwU</td>\n",
       "    </tr>\n",
       "    <tr>\n",
       "      <th>2</th>\n",
       "      <td>WBee8QwUEu</td>\n",
       "    </tr>\n",
       "    <tr>\n",
       "      <th>3</th>\n",
       "      <td>V2tKiFKNPU</td>\n",
       "    </tr>\n",
       "    <tr>\n",
       "      <th>4</th>\n",
       "      <td>5BrnlMp6FB</td>\n",
       "    </tr>\n",
       "  </tbody>\n",
       "</table>\n",
       "</div>"
      ],
      "text/plain": [
       "            Z\n",
       "0  odsznegNL7\n",
       "1  xryJaY7xwU\n",
       "2  WBee8QwUEu\n",
       "3  V2tKiFKNPU\n",
       "4  5BrnlMp6FB"
      ]
     },
     "execution_count": 11,
     "metadata": {},
     "output_type": "execute_result"
    }
   ],
   "source": [
    "#menghapus setiap kolom yang mengandung missing values\n",
    "df=df.dropna(axis='columns')\n",
    "df.head()"
   ]
  },
  {
   "cell_type": "code",
   "execution_count": 12,
   "metadata": {},
   "outputs": [
    {
     "data": {
      "text/html": [
       "<div>\n",
       "<style scoped>\n",
       "    .dataframe tbody tr th:only-of-type {\n",
       "        vertical-align: middle;\n",
       "    }\n",
       "\n",
       "    .dataframe tbody tr th {\n",
       "        vertical-align: top;\n",
       "    }\n",
       "\n",
       "    .dataframe thead th {\n",
       "        text-align: right;\n",
       "    }\n",
       "</style>\n",
       "<table border=\"1\" class=\"dataframe\">\n",
       "  <thead>\n",
       "    <tr style=\"text-align: right;\">\n",
       "      <th></th>\n",
       "      <th>Z</th>\n",
       "      <th>A</th>\n",
       "      <th>B</th>\n",
       "      <th>C</th>\n",
       "      <th>D</th>\n",
       "    </tr>\n",
       "  </thead>\n",
       "  <tbody>\n",
       "    <tr>\n",
       "      <th>0</th>\n",
       "      <td>odsznegNL7</td>\n",
       "      <td>-0.846224</td>\n",
       "      <td>1.126368</td>\n",
       "      <td>-0.007235</td>\n",
       "      <td>1.029593</td>\n",
       "    </tr>\n",
       "    <tr>\n",
       "      <th>2</th>\n",
       "      <td>WBee8QwUEu</td>\n",
       "      <td>0.318026</td>\n",
       "      <td>-2.231194</td>\n",
       "      <td>-1.162135</td>\n",
       "      <td>-0.400426</td>\n",
       "    </tr>\n",
       "    <tr>\n",
       "      <th>3</th>\n",
       "      <td>V2tKiFKNPU</td>\n",
       "      <td>0.737495</td>\n",
       "      <td>1.394655</td>\n",
       "      <td>1.219070</td>\n",
       "      <td>-0.756473</td>\n",
       "    </tr>\n",
       "    <tr>\n",
       "      <th>6</th>\n",
       "      <td>QWfOZk7SnY</td>\n",
       "      <td>0.321478</td>\n",
       "      <td>-1.748996</td>\n",
       "      <td>0.280341</td>\n",
       "      <td>0.701574</td>\n",
       "    </tr>\n",
       "    <tr>\n",
       "      <th>7</th>\n",
       "      <td>rhp5Z1apnZ</td>\n",
       "      <td>-0.565078</td>\n",
       "      <td>0.484593</td>\n",
       "      <td>2.468877</td>\n",
       "      <td>0.572989</td>\n",
       "    </tr>\n",
       "  </tbody>\n",
       "</table>\n",
       "</div>"
      ],
      "text/plain": [
       "            Z         A         B         C         D\n",
       "0  odsznegNL7 -0.846224  1.126368 -0.007235  1.029593\n",
       "2  WBee8QwUEu  0.318026 -2.231194 -1.162135 -0.400426\n",
       "3  V2tKiFKNPU  0.737495  1.394655  1.219070 -0.756473\n",
       "6  QWfOZk7SnY  0.321478 -1.748996  0.280341  0.701574\n",
       "7  rhp5Z1apnZ -0.565078  0.484593  2.468877  0.572989"
      ]
     },
     "execution_count": 12,
     "metadata": {},
     "output_type": "execute_result"
    }
   ],
   "source": [
    "#menghapus setiap baris/rows yang mengandung missing values\n",
    "df = df_backup.copy(deep=True)\n",
    "df = df.dropna(axis='rows')\n",
    "df.head()"
   ]
  },
  {
   "cell_type": "code",
   "execution_count": 13,
   "metadata": {},
   "outputs": [
    {
     "data": {
      "text/plain": [
       "Z    0.000000\n",
       "A    0.066667\n",
       "B    0.033333\n",
       "C    0.100000\n",
       "D    0.200000\n",
       "dtype: float64"
      ]
     },
     "execution_count": 13,
     "metadata": {},
     "output_type": "execute_result"
    }
   ],
   "source": [
    "#melihat persentase value untuk tiap kolomnya\n",
    "df = df_backup.copy(deep=True)\n",
    "df.isna().mean()"
   ]
  },
  {
   "cell_type": "code",
   "execution_count": 17,
   "metadata": {},
   "outputs": [
    {
     "data": {
      "text/html": [
       "<div>\n",
       "<style scoped>\n",
       "    .dataframe tbody tr th:only-of-type {\n",
       "        vertical-align: middle;\n",
       "    }\n",
       "\n",
       "    .dataframe tbody tr th {\n",
       "        vertical-align: top;\n",
       "    }\n",
       "\n",
       "    .dataframe thead th {\n",
       "        text-align: right;\n",
       "    }\n",
       "</style>\n",
       "<table border=\"1\" class=\"dataframe\">\n",
       "  <thead>\n",
       "    <tr style=\"text-align: right;\">\n",
       "      <th></th>\n",
       "      <th>Z</th>\n",
       "      <th>A</th>\n",
       "      <th>B</th>\n",
       "      <th>C</th>\n",
       "    </tr>\n",
       "  </thead>\n",
       "  <tbody>\n",
       "    <tr>\n",
       "      <th>0</th>\n",
       "      <td>odsznegNL7</td>\n",
       "      <td>-0.846224</td>\n",
       "      <td>1.126368</td>\n",
       "      <td>-0.007235</td>\n",
       "    </tr>\n",
       "    <tr>\n",
       "      <th>1</th>\n",
       "      <td>xryJaY7xwU</td>\n",
       "      <td>0.402216</td>\n",
       "      <td>1.551617</td>\n",
       "      <td>0.969158</td>\n",
       "    </tr>\n",
       "    <tr>\n",
       "      <th>2</th>\n",
       "      <td>WBee8QwUEu</td>\n",
       "      <td>0.318026</td>\n",
       "      <td>-2.231194</td>\n",
       "      <td>-1.162135</td>\n",
       "    </tr>\n",
       "    <tr>\n",
       "      <th>3</th>\n",
       "      <td>V2tKiFKNPU</td>\n",
       "      <td>0.737495</td>\n",
       "      <td>1.394655</td>\n",
       "      <td>1.219070</td>\n",
       "    </tr>\n",
       "    <tr>\n",
       "      <th>4</th>\n",
       "      <td>5BrnlMp6FB</td>\n",
       "      <td>NaN</td>\n",
       "      <td>NaN</td>\n",
       "      <td>-1.804825</td>\n",
       "    </tr>\n",
       "  </tbody>\n",
       "</table>\n",
       "</div>"
      ],
      "text/plain": [
       "            Z         A         B         C\n",
       "0  odsznegNL7 -0.846224  1.126368 -0.007235\n",
       "1  xryJaY7xwU  0.402216  1.551617  0.969158\n",
       "2  WBee8QwUEu  0.318026 -2.231194 -1.162135\n",
       "3  V2tKiFKNPU  0.737495  1.394655  1.219070\n",
       "4  5BrnlMp6FB       NaN       NaN -1.804825"
      ]
     },
     "execution_count": 17,
     "metadata": {},
     "output_type": "execute_result"
    }
   ],
   "source": [
    "#menghapus setiap missing value berdasarkan treshold\n",
    "threshold = len(df)*0.9\n",
    "df = df.dropna(thresh=threshold, axis='columns')\n",
    "df.head()"
   ]
  },
  {
   "cell_type": "code",
   "execution_count": null,
   "metadata": {},
   "outputs": [],
   "source": []
  }
 ],
 "metadata": {
  "kernelspec": {
   "display_name": "Python 3",
   "language": "python",
   "name": "python3"
  },
  "language_info": {
   "codemirror_mode": {
    "name": "ipython",
    "version": 3
   },
   "file_extension": ".py",
   "mimetype": "text/x-python",
   "name": "python",
   "nbconvert_exporter": "python",
   "pygments_lexer": "ipython3",
   "version": "3.8.5"
  }
 },
 "nbformat": 4,
 "nbformat_minor": 4
}
